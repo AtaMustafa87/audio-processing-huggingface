{
 "cells": [
  {
   "cell_type": "code",
   "execution_count": 4,
   "id": "946c5e84-fa71-4c4e-ae80-7922dd88bba2",
   "metadata": {},
   "outputs": [
    {
     "data": {
      "text/plain": [
       "Dataset({\n",
       "    features: ['path', 'audio', 'transcription', 'english_transcription', 'intent_class', 'lang_id'],\n",
       "    num_rows: 654\n",
       "})"
      ]
     },
     "execution_count": 4,
     "metadata": {},
     "output_type": "execute_result"
    }
   ],
   "source": [
    "from datasets import load_dataset\n",
    "\n",
    "minds = load_dataset(\"PolyAI/minds14\", name=\"en-AU\", split=\"train\")\n",
    "minds"
   ]
  },
  {
   "cell_type": "code",
   "execution_count": 5,
   "id": "bd51756d-1241-437d-baec-01660ff434bf",
   "metadata": {},
   "outputs": [
    {
     "data": {
      "text/plain": [
       "Dataset({\n",
       "    features: ['path', 'audio', 'transcription', 'intent_class'],\n",
       "    num_rows: 654\n",
       "})"
      ]
     },
     "execution_count": 5,
     "metadata": {},
     "output_type": "execute_result"
    }
   ],
   "source": [
    "columns_to_remove = [\"lang_id\", \"english_transcription\"]\n",
    "minds = minds.remove_columns(columns_to_remove)\n",
    "minds"
   ]
  },
  {
   "cell_type": "code",
   "execution_count": 6,
   "id": "9edaa578-dc86-4567-a558-8a65f892c7e6",
   "metadata": {},
   "outputs": [
    {
     "ename": "NameError",
     "evalue": "name 'example' is not defined",
     "output_type": "error",
     "traceback": [
      "\u001b[0;31m---------------------------------------------------------------------------\u001b[0m",
      "\u001b[0;31mNameError\u001b[0m                                 Traceback (most recent call last)",
      "Cell \u001b[0;32mIn[6], line 2\u001b[0m\n\u001b[1;32m      1\u001b[0m id2label \u001b[38;5;241m=\u001b[39m minds\u001b[38;5;241m.\u001b[39mfeatures[\u001b[38;5;124m\"\u001b[39m\u001b[38;5;124mintent_class\u001b[39m\u001b[38;5;124m\"\u001b[39m]\u001b[38;5;241m.\u001b[39mint2str\n\u001b[0;32m----> 2\u001b[0m id2label(example[\u001b[38;5;124m\"\u001b[39m\u001b[38;5;124mintent_class\u001b[39m\u001b[38;5;124m\"\u001b[39m])\n",
      "\u001b[0;31mNameError\u001b[0m: name 'example' is not defined"
     ]
    }
   ],
   "source": [
    "id2label = minds.features[\"intent_class\"].int2str\n",
    "id2label(example[\"intent_class\"])"
   ]
  },
  {
   "cell_type": "code",
   "execution_count": null,
   "id": "3bf8f393-2d66-464e-b2b2-15e7b5a031c6",
   "metadata": {},
   "outputs": [
    {
     "name": "stderr",
     "output_type": "stream",
     "text": [
      "/home/danish/anaconda3/lib/python3.12/site-packages/gradio/processing_utils.py:738: UserWarning: Trying to convert audio automatically from float64 to 16-bit int format.\n",
      "  warnings.warn(warning.format(data.dtype))\n"
     ]
    },
    {
     "name": "stdout",
     "output_type": "stream",
     "text": [
      "* Running on local URL:  http://127.0.0.1:7860\n",
      "\n",
      "To create a public link, set `share=True` in `launch()`.\n"
     ]
    },
    {
     "data": {
      "text/html": [
       "<div><iframe src=\"http://127.0.0.1:7860/\" width=\"100%\" height=\"500\" allow=\"autoplay; camera; microphone; clipboard-read; clipboard-write;\" frameborder=\"0\" allowfullscreen></iframe></div>"
      ],
      "text/plain": [
       "<IPython.core.display.HTML object>"
      ]
     },
     "metadata": {},
     "output_type": "display_data"
    }
   ],
   "source": [
    "import gradio as gr\n",
    "\n",
    "\n",
    "def generate_audio():\n",
    "    example = minds.shuffle()[0]\n",
    "    audio = example[\"audio\"]\n",
    "    return (\n",
    "        audio[\"sampling_rate\"],\n",
    "        audio[\"array\"],\n",
    "    ), id2label(example[\"intent_class\"])\n",
    "\n",
    "\n",
    "with gr.Blocks() as demo:\n",
    "    with gr.Column():\n",
    "        for _ in range(4):\n",
    "            audio, label = generate_audio()\n",
    "            output = gr.Audio(audio, label=label)\n",
    "\n",
    "demo.launch(debug=True)"
   ]
  },
  {
   "cell_type": "code",
   "execution_count": null,
   "id": "1829c7e1-d237-4fba-b354-dcb615c3ba01",
   "metadata": {},
   "outputs": [],
   "source": [
    "import librosa\n",
    "import matplotlib.pyplot as plt\n",
    "import librosa.display\n",
    "\n",
    "array = example[\"audio\"][\"array\"]\n",
    "sampling_rate = example[\"audio\"][\"sampling_rate\"]\n",
    "\n",
    "plt.figure().set_figwidth(12)\n",
    "librosa.display.waveshow(array, sr=sampling_rate)"
   ]
  },
  {
   "cell_type": "markdown",
   "id": "cd52bd9e-cf8b-4f8c-8e26-f862724c07ae",
   "metadata": {},
   "source": [
    "# Chapter 2"
   ]
  },
  {
   "cell_type": "markdown",
   "id": "d92b2845-bba9-4a04-8f37-7cad20bd3ede",
   "metadata": {},
   "source": [
    "## Audio Classification with a Pipeline"
   ]
  },
  {
   "cell_type": "code",
   "execution_count": 1,
   "id": "4951e4f7-de16-4791-8380-ce39c5141191",
   "metadata": {},
   "outputs": [],
   "source": [
    "from datasets import load_dataset\n",
    "from datasets import Audio\n",
    "\n",
    "minds = load_dataset(\"PolyAI/minds14\", name=\"en-AU\", split=\"train\")\n",
    "minds = minds.cast_column(\"audio\", Audio(sampling_rate=16_000))"
   ]
  },
  {
   "cell_type": "code",
   "execution_count": 2,
   "id": "566fd50a-f867-4cf7-8361-52233712e3e3",
   "metadata": {},
   "outputs": [
    {
     "data": {
      "application/vnd.jupyter.widget-view+json": {
       "model_id": "858ef8c4f1db4631baccbbf6e10adf74",
       "version_major": 2,
       "version_minor": 0
      },
      "text/plain": [
       "pytorch_model.bin:   0%|          | 0.00/1.26G [00:00<?, ?B/s]"
      ]
     },
     "metadata": {},
     "output_type": "display_data"
    },
    {
     "name": "stderr",
     "output_type": "stream",
     "text": [
      "Error while downloading from https://cdn-lfs.hf.co/repos/55/81/5581151d3db61b7678e96f1b9718aa62d81e9ea4850a741f124ae4f5d6fd7bb2/02351e6a87f8372a6598cbf81c6a16b1134f38c6f835d7e10cafaa4b77db3657?response-content-disposition=inline%3B+filename*%3DUTF-8%27%27pytorch_model.bin%3B+filename%3D%22pytorch_model.bin%22%3B&response-content-type=application%2Foctet-stream&Expires=1733139353&Policy=eyJTdGF0ZW1lbnQiOlt7IkNvbmRpdGlvbiI6eyJEYXRlTGVzc1RoYW4iOnsiQVdTOkVwb2NoVGltZSI6MTczMzEzOTM1M319LCJSZXNvdXJjZSI6Imh0dHBzOi8vY2RuLWxmcy5oZi5jby9yZXBvcy81NS84MS81NTgxMTUxZDNkYjYxYjc2NzhlOTZmMWI5NzE4YWE2MmQ4MWU5ZWE0ODUwYTc0MWYxMjRhZTRmNWQ2ZmQ3YmIyLzAyMzUxZTZhODdmODM3MmE2NTk4Y2JmODFjNmExNmIxMTM0ZjM4YzZmODM1ZDdlMTBjYWZhYTRiNzdkYjM2NTc%7EcmVzcG9uc2UtY29udGVudC1kaXNwb3NpdGlvbj0qJnJlc3BvbnNlLWNvbnRlbnQtdHlwZT0qIn1dfQ__&Signature=mfI-MRZEJmuK3QKN2kLluRsqXIesQwM4IMEMfr3-VkC1y-ouOTszq7D6qaiafohvkbdswTtLwYsTamClTxMjsJycMQLI2PYHGJV7aIBxmoREm9sdJYcn7zQPMhRcySP8gobbKRJhO3UIbHbtftWJZIBAMbJFODLqL4J7GIBm0tCB0-W8IutEdIFj4mg3O5GBrBdTIpMeLI4uB%7EFlDBdH9jsvu5p20gLEPxTGr7M8qj%7E8VtKUBeAVtwfDgTHPw05rMOLNG9YoaPsuLKjg7cqSbU8-ptGXEqyru5NPblTanfgDvc%7Eljlylt-omt96penppy7xICTHXm0yHxCjaZipIIA__&Key-Pair-Id=K3RPWS32NSSJCE: HTTPSConnectionPool(host='cdn-lfs.hf.co', port=443): Read timed out.\n",
      "Trying to resume download...\n"
     ]
    },
    {
     "ename": "ValueError",
     "evalue": "Could not load model anton-l/xtreme_s_xlsr_300m_minds14 with any of the following classes: (<class 'transformers.models.auto.modeling_auto.AutoModelForAudioClassification'>, <class 'transformers.models.wav2vec2.modeling_wav2vec2.Wav2Vec2ForSequenceClassification'>). See the original errors:\n\nwhile loading with AutoModelForAudioClassification, an error is thrown:\nTraceback (most recent call last):\n  File \"/home/danish/anaconda3/lib/python3.12/site-packages/urllib3/response.py\", line 748, in _error_catcher\n    yield\n  File \"/home/danish/anaconda3/lib/python3.12/site-packages/urllib3/response.py\", line 873, in _raw_read\n    data = self._fp_read(amt, read1=read1) if not fp_closed else b\"\"\n           ^^^^^^^^^^^^^^^^^^^^^^^^^^^^^^^\n  File \"/home/danish/anaconda3/lib/python3.12/site-packages/urllib3/response.py\", line 856, in _fp_read\n    return self._fp.read(amt) if amt is not None else self._fp.read()\n           ^^^^^^^^^^^^^^^^^^\n  File \"/home/danish/anaconda3/lib/python3.12/http/client.py\", line 479, in read\n    s = self.fp.read(amt)\n        ^^^^^^^^^^^^^^^^^\n  File \"/home/danish/anaconda3/lib/python3.12/socket.py\", line 708, in readinto\n    return self._sock.recv_into(b)\n           ^^^^^^^^^^^^^^^^^^^^^^^\n  File \"/home/danish/anaconda3/lib/python3.12/ssl.py\", line 1252, in recv_into\n    return self.read(nbytes, buffer)\n           ^^^^^^^^^^^^^^^^^^^^^^^^^\n  File \"/home/danish/anaconda3/lib/python3.12/ssl.py\", line 1104, in read\n    return self._sslobj.read(len, buffer)\n           ^^^^^^^^^^^^^^^^^^^^^^^^^^^^^^\nTimeoutError: The read operation timed out\n\nThe above exception was the direct cause of the following exception:\n\nTraceback (most recent call last):\n  File \"/home/danish/anaconda3/lib/python3.12/site-packages/requests/models.py\", line 820, in generate\n    yield from self.raw.stream(chunk_size, decode_content=True)\n  File \"/home/danish/anaconda3/lib/python3.12/site-packages/urllib3/response.py\", line 1060, in stream\n    data = self.read(amt=amt, decode_content=decode_content)\n           ^^^^^^^^^^^^^^^^^^^^^^^^^^^^^^^^^^^^^^^^^^^^^^^^^\n  File \"/home/danish/anaconda3/lib/python3.12/site-packages/urllib3/response.py\", line 949, in read\n    data = self._raw_read(amt)\n           ^^^^^^^^^^^^^^^^^^^\n  File \"/home/danish/anaconda3/lib/python3.12/site-packages/urllib3/response.py\", line 872, in _raw_read\n    with self._error_catcher():\n  File \"/home/danish/anaconda3/lib/python3.12/contextlib.py\", line 158, in __exit__\n    self.gen.throw(value)\n  File \"/home/danish/anaconda3/lib/python3.12/site-packages/urllib3/response.py\", line 753, in _error_catcher\n    raise ReadTimeoutError(self._pool, None, \"Read timed out.\") from e  # type: ignore[arg-type]\n    ^^^^^^^^^^^^^^^^^^^^^^^^^^^^^^^^^^^^^^^^^^^^^^^^^^^^^^^^^^^^^^^^^^\nurllib3.exceptions.ReadTimeoutError: HTTPSConnectionPool(host='cdn-lfs.hf.co', port=443): Read timed out.\n\nDuring handling of the above exception, another exception occurred:\n\nTraceback (most recent call last):\n  File \"/home/danish/anaconda3/lib/python3.12/site-packages/huggingface_hub/file_download.py\", line 454, in http_get\n    for chunk in r.iter_content(chunk_size=constants.DOWNLOAD_CHUNK_SIZE):\n  File \"/home/danish/anaconda3/lib/python3.12/site-packages/requests/models.py\", line 826, in generate\n    raise ConnectionError(e)\nrequests.exceptions.ConnectionError: HTTPSConnectionPool(host='cdn-lfs.hf.co', port=443): Read timed out.\n\nDuring handling of the above exception, another exception occurred:\n\nTraceback (most recent call last):\n  File \"/home/danish/anaconda3/lib/python3.12/site-packages/urllib3/connection.py\", line 196, in _new_conn\n    sock = connection.create_connection(\n           ^^^^^^^^^^^^^^^^^^^^^^^^^^^^^\n  File \"/home/danish/anaconda3/lib/python3.12/site-packages/urllib3/util/connection.py\", line 60, in create_connection\n    for res in socket.getaddrinfo(host, port, family, socket.SOCK_STREAM):\n               ^^^^^^^^^^^^^^^^^^^^^^^^^^^^^^^^^^^^^^^^^^^^^^^^^^^^^^^^^^\n  File \"/home/danish/anaconda3/lib/python3.12/socket.py\", line 964, in getaddrinfo\n    for res in _socket.getaddrinfo(host, port, family, type, proto, flags):\n               ^^^^^^^^^^^^^^^^^^^^^^^^^^^^^^^^^^^^^^^^^^^^^^^^^^^^^^^^^^^\nsocket.gaierror: [Errno -3] Temporary failure in name resolution\n\nThe above exception was the direct cause of the following exception:\n\nTraceback (most recent call last):\n  File \"/home/danish/anaconda3/lib/python3.12/site-packages/urllib3/connectionpool.py\", line 789, in urlopen\n    response = self._make_request(\n               ^^^^^^^^^^^^^^^^^^^\n  File \"/home/danish/anaconda3/lib/python3.12/site-packages/urllib3/connectionpool.py\", line 490, in _make_request\n    raise new_e\n  File \"/home/danish/anaconda3/lib/python3.12/site-packages/urllib3/connectionpool.py\", line 466, in _make_request\n    self._validate_conn(conn)\n  File \"/home/danish/anaconda3/lib/python3.12/site-packages/urllib3/connectionpool.py\", line 1095, in _validate_conn\n    conn.connect()\n  File \"/home/danish/anaconda3/lib/python3.12/site-packages/urllib3/connection.py\", line 615, in connect\n    self.sock = sock = self._new_conn()\n                       ^^^^^^^^^^^^^^^^\n  File \"/home/danish/anaconda3/lib/python3.12/site-packages/urllib3/connection.py\", line 203, in _new_conn\n    raise NameResolutionError(self.host, self, e) from e\nurllib3.exceptions.NameResolutionError: <urllib3.connection.HTTPSConnection object at 0x7f0fa3aa3740>: Failed to resolve 'cdn-lfs.hf.co' ([Errno -3] Temporary failure in name resolution)\n\nThe above exception was the direct cause of the following exception:\n\nTraceback (most recent call last):\n  File \"/home/danish/anaconda3/lib/python3.12/site-packages/requests/adapters.py\", line 589, in send\n    resp = conn.urlopen(\n           ^^^^^^^^^^^^^\n  File \"/home/danish/anaconda3/lib/python3.12/site-packages/urllib3/connectionpool.py\", line 843, in urlopen\n    retries = retries.increment(\n              ^^^^^^^^^^^^^^^^^^\n  File \"/home/danish/anaconda3/lib/python3.12/site-packages/urllib3/util/retry.py\", line 519, in increment\n    raise MaxRetryError(_pool, url, reason) from reason  # type: ignore[arg-type]\n    ^^^^^^^^^^^^^^^^^^^^^^^^^^^^^^^^^^^^^^^^^^^^^^^^^^^\nurllib3.exceptions.MaxRetryError: HTTPSConnectionPool(host='cdn-lfs.hf.co', port=443): Max retries exceeded with url: /repos/55/81/5581151d3db61b7678e96f1b9718aa62d81e9ea4850a741f124ae4f5d6fd7bb2/02351e6a87f8372a6598cbf81c6a16b1134f38c6f835d7e10cafaa4b77db3657?response-content-disposition=inline%3B+filename*%3DUTF-8%27%27pytorch_model.bin%3B+filename%3D%22pytorch_model.bin%22%3B&response-content-type=application%2Foctet-stream&Expires=1733139353&Policy=eyJTdGF0ZW1lbnQiOlt7IkNvbmRpdGlvbiI6eyJEYXRlTGVzc1RoYW4iOnsiQVdTOkVwb2NoVGltZSI6MTczMzEzOTM1M319LCJSZXNvdXJjZSI6Imh0dHBzOi8vY2RuLWxmcy5oZi5jby9yZXBvcy81NS84MS81NTgxMTUxZDNkYjYxYjc2NzhlOTZmMWI5NzE4YWE2MmQ4MWU5ZWE0ODUwYTc0MWYxMjRhZTRmNWQ2ZmQ3YmIyLzAyMzUxZTZhODdmODM3MmE2NTk4Y2JmODFjNmExNmIxMTM0ZjM4YzZmODM1ZDdlMTBjYWZhYTRiNzdkYjM2NTc~cmVzcG9uc2UtY29udGVudC1kaXNwb3NpdGlvbj0qJnJlc3BvbnNlLWNvbnRlbnQtdHlwZT0qIn1dfQ__&Signature=mfI-MRZEJmuK3QKN2kLluRsqXIesQwM4IMEMfr3-VkC1y-ouOTszq7D6qaiafohvkbdswTtLwYsTamClTxMjsJycMQLI2PYHGJV7aIBxmoREm9sdJYcn7zQPMhRcySP8gobbKRJhO3UIbHbtftWJZIBAMbJFODLqL4J7GIBm0tCB0-W8IutEdIFj4mg3O5GBrBdTIpMeLI4uB~FlDBdH9jsvu5p20gLEPxTGr7M8qj~8VtKUBeAVtwfDgTHPw05rMOLNG9YoaPsuLKjg7cqSbU8-ptGXEqyru5NPblTanfgDvc~ljlylt-omt96penppy7xICTHXm0yHxCjaZipIIA__&Key-Pair-Id=K3RPWS32NSSJCE (Caused by NameResolutionError(\"<urllib3.connection.HTTPSConnection object at 0x7f0fa3aa3740>: Failed to resolve 'cdn-lfs.hf.co' ([Errno -3] Temporary failure in name resolution)\"))\n\nDuring handling of the above exception, another exception occurred:\n\nTraceback (most recent call last):\n  File \"/home/danish/anaconda3/lib/python3.12/site-packages/transformers/pipelines/base.py\", line 289, in infer_framework_load_model\n    model = model_class.from_pretrained(model, **kwargs)\n            ^^^^^^^^^^^^^^^^^^^^^^^^^^^^^^^^^^^^^^^^^^^^\n  File \"/home/danish/anaconda3/lib/python3.12/site-packages/transformers/models/auto/auto_factory.py\", line 564, in from_pretrained\n    return model_class.from_pretrained(\n           ^^^^^^^^^^^^^^^^^^^^^^^^^^^^\n  File \"/home/danish/anaconda3/lib/python3.12/site-packages/transformers/modeling_utils.py\", line 3838, in from_pretrained\n    resolved_archive_file = cached_file(\n                            ^^^^^^^^^^^^\n  File \"/home/danish/anaconda3/lib/python3.12/site-packages/transformers/utils/hub.py\", line 403, in cached_file\n    resolved_file = hf_hub_download(\n                    ^^^^^^^^^^^^^^^^\n  File \"/home/danish/anaconda3/lib/python3.12/site-packages/huggingface_hub/utils/_validators.py\", line 114, in _inner_fn\n    return fn(*args, **kwargs)\n           ^^^^^^^^^^^^^^^^^^^\n  File \"/home/danish/anaconda3/lib/python3.12/site-packages/huggingface_hub/file_download.py\", line 862, in hf_hub_download\n    return _hf_hub_download_to_cache_dir(\n           ^^^^^^^^^^^^^^^^^^^^^^^^^^^^^^\n  File \"/home/danish/anaconda3/lib/python3.12/site-packages/huggingface_hub/file_download.py\", line 1011, in _hf_hub_download_to_cache_dir\n    _download_to_tmp_and_move(\n  File \"/home/danish/anaconda3/lib/python3.12/site-packages/huggingface_hub/file_download.py\", line 1545, in _download_to_tmp_and_move\n    http_get(\n  File \"/home/danish/anaconda3/lib/python3.12/site-packages/huggingface_hub/file_download.py\", line 471, in http_get\n    return http_get(\n           ^^^^^^^^^\n  File \"/home/danish/anaconda3/lib/python3.12/site-packages/huggingface_hub/file_download.py\", line 368, in http_get\n    r = _request_wrapper(\n        ^^^^^^^^^^^^^^^^^\n  File \"/home/danish/anaconda3/lib/python3.12/site-packages/huggingface_hub/file_download.py\", line 300, in _request_wrapper\n    response = get_session().request(method=method, url=url, **params)\n               ^^^^^^^^^^^^^^^^^^^^^^^^^^^^^^^^^^^^^^^^^^^^^^^^^^^^^^^\n  File \"/home/danish/anaconda3/lib/python3.12/site-packages/requests/sessions.py\", line 589, in request\n    resp = self.send(prep, **send_kwargs)\n           ^^^^^^^^^^^^^^^^^^^^^^^^^^^^^^\n  File \"/home/danish/anaconda3/lib/python3.12/site-packages/requests/sessions.py\", line 703, in send\n    r = adapter.send(request, **kwargs)\n        ^^^^^^^^^^^^^^^^^^^^^^^^^^^^^^^\n  File \"/home/danish/anaconda3/lib/python3.12/site-packages/huggingface_hub/utils/_http.py\", line 93, in send\n    return super().send(request, *args, **kwargs)\n           ^^^^^^^^^^^^^^^^^^^^^^^^^^^^^^^^^^^^^^\n  File \"/home/danish/anaconda3/lib/python3.12/site-packages/requests/adapters.py\", line 622, in send\n    raise ConnectionError(e, request=request)\nrequests.exceptions.ConnectionError: (MaxRetryError('HTTPSConnectionPool(host=\\'cdn-lfs.hf.co\\', port=443): Max retries exceeded with url: /repos/55/81/5581151d3db61b7678e96f1b9718aa62d81e9ea4850a741f124ae4f5d6fd7bb2/02351e6a87f8372a6598cbf81c6a16b1134f38c6f835d7e10cafaa4b77db3657?response-content-disposition=inline%3B+filename*%3DUTF-8%27%27pytorch_model.bin%3B+filename%3D%22pytorch_model.bin%22%3B&response-content-type=application%2Foctet-stream&Expires=1733139353&Policy=eyJTdGF0ZW1lbnQiOlt7IkNvbmRpdGlvbiI6eyJEYXRlTGVzc1RoYW4iOnsiQVdTOkVwb2NoVGltZSI6MTczMzEzOTM1M319LCJSZXNvdXJjZSI6Imh0dHBzOi8vY2RuLWxmcy5oZi5jby9yZXBvcy81NS84MS81NTgxMTUxZDNkYjYxYjc2NzhlOTZmMWI5NzE4YWE2MmQ4MWU5ZWE0ODUwYTc0MWYxMjRhZTRmNWQ2ZmQ3YmIyLzAyMzUxZTZhODdmODM3MmE2NTk4Y2JmODFjNmExNmIxMTM0ZjM4YzZmODM1ZDdlMTBjYWZhYTRiNzdkYjM2NTc~cmVzcG9uc2UtY29udGVudC1kaXNwb3NpdGlvbj0qJnJlc3BvbnNlLWNvbnRlbnQtdHlwZT0qIn1dfQ__&Signature=mfI-MRZEJmuK3QKN2kLluRsqXIesQwM4IMEMfr3-VkC1y-ouOTszq7D6qaiafohvkbdswTtLwYsTamClTxMjsJycMQLI2PYHGJV7aIBxmoREm9sdJYcn7zQPMhRcySP8gobbKRJhO3UIbHbtftWJZIBAMbJFODLqL4J7GIBm0tCB0-W8IutEdIFj4mg3O5GBrBdTIpMeLI4uB~FlDBdH9jsvu5p20gLEPxTGr7M8qj~8VtKUBeAVtwfDgTHPw05rMOLNG9YoaPsuLKjg7cqSbU8-ptGXEqyru5NPblTanfgDvc~ljlylt-omt96penppy7xICTHXm0yHxCjaZipIIA__&Key-Pair-Id=K3RPWS32NSSJCE (Caused by NameResolutionError(\"<urllib3.connection.HTTPSConnection object at 0x7f0fa3aa3740>: Failed to resolve \\'cdn-lfs.hf.co\\' ([Errno -3] Temporary failure in name resolution)\"))'), '(Request ID: 1b26fc19-c2fc-4af1-a08f-776a4ead731d)')\n\nwhile loading with Wav2Vec2ForSequenceClassification, an error is thrown:\nTraceback (most recent call last):\n  File \"/home/danish/anaconda3/lib/python3.12/site-packages/transformers/pipelines/base.py\", line 289, in infer_framework_load_model\n    model = model_class.from_pretrained(model, **kwargs)\n            ^^^^^^^^^^^^^^^^^^^^^^^^^^^^^^^^^^^^^^^^^^^^\n  File \"/home/danish/anaconda3/lib/python3.12/site-packages/transformers/modeling_utils.py\", line 3913, in from_pretrained\n    raise EnvironmentError(\nOSError: anton-l/xtreme_s_xlsr_300m_minds14 does not appear to have a file named pytorch_model.bin, model.safetensors, tf_model.h5, model.ckpt or flax_model.msgpack.\n\n\n",
     "output_type": "error",
     "traceback": [
      "\u001b[0;31m---------------------------------------------------------------------------\u001b[0m",
      "\u001b[0;31mValueError\u001b[0m                                Traceback (most recent call last)",
      "Cell \u001b[0;32mIn[2], line 3\u001b[0m\n\u001b[1;32m      1\u001b[0m \u001b[38;5;28;01mfrom\u001b[39;00m \u001b[38;5;21;01mtransformers\u001b[39;00m \u001b[38;5;28;01mimport\u001b[39;00m pipeline\n\u001b[0;32m----> 3\u001b[0m classifier \u001b[38;5;241m=\u001b[39m pipeline(\n\u001b[1;32m      4\u001b[0m     \u001b[38;5;124m\"\u001b[39m\u001b[38;5;124maudio-classification\u001b[39m\u001b[38;5;124m\"\u001b[39m,\n\u001b[1;32m      5\u001b[0m     model\u001b[38;5;241m=\u001b[39m\u001b[38;5;124m\"\u001b[39m\u001b[38;5;124manton-l/xtreme_s_xlsr_300m_minds14\u001b[39m\u001b[38;5;124m\"\u001b[39m,\n\u001b[1;32m      6\u001b[0m )\n",
      "File \u001b[0;32m~/anaconda3/lib/python3.12/site-packages/transformers/pipelines/__init__.py:926\u001b[0m, in \u001b[0;36mpipeline\u001b[0;34m(task, model, config, tokenizer, feature_extractor, image_processor, processor, framework, revision, use_fast, token, device, device_map, torch_dtype, trust_remote_code, model_kwargs, pipeline_class, **kwargs)\u001b[0m\n\u001b[1;32m    924\u001b[0m \u001b[38;5;28;01mif\u001b[39;00m \u001b[38;5;28misinstance\u001b[39m(model, \u001b[38;5;28mstr\u001b[39m) \u001b[38;5;129;01mor\u001b[39;00m framework \u001b[38;5;129;01mis\u001b[39;00m \u001b[38;5;28;01mNone\u001b[39;00m:\n\u001b[1;32m    925\u001b[0m     model_classes \u001b[38;5;241m=\u001b[39m {\u001b[38;5;124m\"\u001b[39m\u001b[38;5;124mtf\u001b[39m\u001b[38;5;124m\"\u001b[39m: targeted_task[\u001b[38;5;124m\"\u001b[39m\u001b[38;5;124mtf\u001b[39m\u001b[38;5;124m\"\u001b[39m], \u001b[38;5;124m\"\u001b[39m\u001b[38;5;124mpt\u001b[39m\u001b[38;5;124m\"\u001b[39m: targeted_task[\u001b[38;5;124m\"\u001b[39m\u001b[38;5;124mpt\u001b[39m\u001b[38;5;124m\"\u001b[39m]}\n\u001b[0;32m--> 926\u001b[0m     framework, model \u001b[38;5;241m=\u001b[39m infer_framework_load_model(\n\u001b[1;32m    927\u001b[0m         model,\n\u001b[1;32m    928\u001b[0m         model_classes\u001b[38;5;241m=\u001b[39mmodel_classes,\n\u001b[1;32m    929\u001b[0m         config\u001b[38;5;241m=\u001b[39mconfig,\n\u001b[1;32m    930\u001b[0m         framework\u001b[38;5;241m=\u001b[39mframework,\n\u001b[1;32m    931\u001b[0m         task\u001b[38;5;241m=\u001b[39mtask,\n\u001b[1;32m    932\u001b[0m         \u001b[38;5;241m*\u001b[39m\u001b[38;5;241m*\u001b[39mhub_kwargs,\n\u001b[1;32m    933\u001b[0m         \u001b[38;5;241m*\u001b[39m\u001b[38;5;241m*\u001b[39mmodel_kwargs,\n\u001b[1;32m    934\u001b[0m     )\n\u001b[1;32m    936\u001b[0m model_config \u001b[38;5;241m=\u001b[39m model\u001b[38;5;241m.\u001b[39mconfig\n\u001b[1;32m    937\u001b[0m hub_kwargs[\u001b[38;5;124m\"\u001b[39m\u001b[38;5;124m_commit_hash\u001b[39m\u001b[38;5;124m\"\u001b[39m] \u001b[38;5;241m=\u001b[39m model\u001b[38;5;241m.\u001b[39mconfig\u001b[38;5;241m.\u001b[39m_commit_hash\n",
      "File \u001b[0;32m~/anaconda3/lib/python3.12/site-packages/transformers/pipelines/base.py:302\u001b[0m, in \u001b[0;36minfer_framework_load_model\u001b[0;34m(model, config, model_classes, task, framework, **model_kwargs)\u001b[0m\n\u001b[1;32m    300\u001b[0m         \u001b[38;5;28;01mfor\u001b[39;00m class_name, trace \u001b[38;5;129;01min\u001b[39;00m all_traceback\u001b[38;5;241m.\u001b[39mitems():\n\u001b[1;32m    301\u001b[0m             error \u001b[38;5;241m+\u001b[39m\u001b[38;5;241m=\u001b[39m \u001b[38;5;124mf\u001b[39m\u001b[38;5;124m\"\u001b[39m\u001b[38;5;124mwhile loading with \u001b[39m\u001b[38;5;132;01m{\u001b[39;00mclass_name\u001b[38;5;132;01m}\u001b[39;00m\u001b[38;5;124m, an error is thrown:\u001b[39m\u001b[38;5;130;01m\\n\u001b[39;00m\u001b[38;5;132;01m{\u001b[39;00mtrace\u001b[38;5;132;01m}\u001b[39;00m\u001b[38;5;130;01m\\n\u001b[39;00m\u001b[38;5;124m\"\u001b[39m\n\u001b[0;32m--> 302\u001b[0m         \u001b[38;5;28;01mraise\u001b[39;00m \u001b[38;5;167;01mValueError\u001b[39;00m(\n\u001b[1;32m    303\u001b[0m             \u001b[38;5;124mf\u001b[39m\u001b[38;5;124m\"\u001b[39m\u001b[38;5;124mCould not load model \u001b[39m\u001b[38;5;132;01m{\u001b[39;00mmodel\u001b[38;5;132;01m}\u001b[39;00m\u001b[38;5;124m with any of the following classes: \u001b[39m\u001b[38;5;132;01m{\u001b[39;00mclass_tuple\u001b[38;5;132;01m}\u001b[39;00m\u001b[38;5;124m. See the original errors:\u001b[39m\u001b[38;5;130;01m\\n\u001b[39;00m\u001b[38;5;130;01m\\n\u001b[39;00m\u001b[38;5;132;01m{\u001b[39;00merror\u001b[38;5;132;01m}\u001b[39;00m\u001b[38;5;130;01m\\n\u001b[39;00m\u001b[38;5;124m\"\u001b[39m\n\u001b[1;32m    304\u001b[0m         )\n\u001b[1;32m    306\u001b[0m \u001b[38;5;28;01mif\u001b[39;00m framework \u001b[38;5;129;01mis\u001b[39;00m \u001b[38;5;28;01mNone\u001b[39;00m:\n\u001b[1;32m    307\u001b[0m     framework \u001b[38;5;241m=\u001b[39m infer_framework(model\u001b[38;5;241m.\u001b[39m\u001b[38;5;18m__class__\u001b[39m)\n",
      "\u001b[0;31mValueError\u001b[0m: Could not load model anton-l/xtreme_s_xlsr_300m_minds14 with any of the following classes: (<class 'transformers.models.auto.modeling_auto.AutoModelForAudioClassification'>, <class 'transformers.models.wav2vec2.modeling_wav2vec2.Wav2Vec2ForSequenceClassification'>). See the original errors:\n\nwhile loading with AutoModelForAudioClassification, an error is thrown:\nTraceback (most recent call last):\n  File \"/home/danish/anaconda3/lib/python3.12/site-packages/urllib3/response.py\", line 748, in _error_catcher\n    yield\n  File \"/home/danish/anaconda3/lib/python3.12/site-packages/urllib3/response.py\", line 873, in _raw_read\n    data = self._fp_read(amt, read1=read1) if not fp_closed else b\"\"\n           ^^^^^^^^^^^^^^^^^^^^^^^^^^^^^^^\n  File \"/home/danish/anaconda3/lib/python3.12/site-packages/urllib3/response.py\", line 856, in _fp_read\n    return self._fp.read(amt) if amt is not None else self._fp.read()\n           ^^^^^^^^^^^^^^^^^^\n  File \"/home/danish/anaconda3/lib/python3.12/http/client.py\", line 479, in read\n    s = self.fp.read(amt)\n        ^^^^^^^^^^^^^^^^^\n  File \"/home/danish/anaconda3/lib/python3.12/socket.py\", line 708, in readinto\n    return self._sock.recv_into(b)\n           ^^^^^^^^^^^^^^^^^^^^^^^\n  File \"/home/danish/anaconda3/lib/python3.12/ssl.py\", line 1252, in recv_into\n    return self.read(nbytes, buffer)\n           ^^^^^^^^^^^^^^^^^^^^^^^^^\n  File \"/home/danish/anaconda3/lib/python3.12/ssl.py\", line 1104, in read\n    return self._sslobj.read(len, buffer)\n           ^^^^^^^^^^^^^^^^^^^^^^^^^^^^^^\nTimeoutError: The read operation timed out\n\nThe above exception was the direct cause of the following exception:\n\nTraceback (most recent call last):\n  File \"/home/danish/anaconda3/lib/python3.12/site-packages/requests/models.py\", line 820, in generate\n    yield from self.raw.stream(chunk_size, decode_content=True)\n  File \"/home/danish/anaconda3/lib/python3.12/site-packages/urllib3/response.py\", line 1060, in stream\n    data = self.read(amt=amt, decode_content=decode_content)\n           ^^^^^^^^^^^^^^^^^^^^^^^^^^^^^^^^^^^^^^^^^^^^^^^^^\n  File \"/home/danish/anaconda3/lib/python3.12/site-packages/urllib3/response.py\", line 949, in read\n    data = self._raw_read(amt)\n           ^^^^^^^^^^^^^^^^^^^\n  File \"/home/danish/anaconda3/lib/python3.12/site-packages/urllib3/response.py\", line 872, in _raw_read\n    with self._error_catcher():\n  File \"/home/danish/anaconda3/lib/python3.12/contextlib.py\", line 158, in __exit__\n    self.gen.throw(value)\n  File \"/home/danish/anaconda3/lib/python3.12/site-packages/urllib3/response.py\", line 753, in _error_catcher\n    raise ReadTimeoutError(self._pool, None, \"Read timed out.\") from e  # type: ignore[arg-type]\n    ^^^^^^^^^^^^^^^^^^^^^^^^^^^^^^^^^^^^^^^^^^^^^^^^^^^^^^^^^^^^^^^^^^\nurllib3.exceptions.ReadTimeoutError: HTTPSConnectionPool(host='cdn-lfs.hf.co', port=443): Read timed out.\n\nDuring handling of the above exception, another exception occurred:\n\nTraceback (most recent call last):\n  File \"/home/danish/anaconda3/lib/python3.12/site-packages/huggingface_hub/file_download.py\", line 454, in http_get\n    for chunk in r.iter_content(chunk_size=constants.DOWNLOAD_CHUNK_SIZE):\n  File \"/home/danish/anaconda3/lib/python3.12/site-packages/requests/models.py\", line 826, in generate\n    raise ConnectionError(e)\nrequests.exceptions.ConnectionError: HTTPSConnectionPool(host='cdn-lfs.hf.co', port=443): Read timed out.\n\nDuring handling of the above exception, another exception occurred:\n\nTraceback (most recent call last):\n  File \"/home/danish/anaconda3/lib/python3.12/site-packages/urllib3/connection.py\", line 196, in _new_conn\n    sock = connection.create_connection(\n           ^^^^^^^^^^^^^^^^^^^^^^^^^^^^^\n  File \"/home/danish/anaconda3/lib/python3.12/site-packages/urllib3/util/connection.py\", line 60, in create_connection\n    for res in socket.getaddrinfo(host, port, family, socket.SOCK_STREAM):\n               ^^^^^^^^^^^^^^^^^^^^^^^^^^^^^^^^^^^^^^^^^^^^^^^^^^^^^^^^^^\n  File \"/home/danish/anaconda3/lib/python3.12/socket.py\", line 964, in getaddrinfo\n    for res in _socket.getaddrinfo(host, port, family, type, proto, flags):\n               ^^^^^^^^^^^^^^^^^^^^^^^^^^^^^^^^^^^^^^^^^^^^^^^^^^^^^^^^^^^\nsocket.gaierror: [Errno -3] Temporary failure in name resolution\n\nThe above exception was the direct cause of the following exception:\n\nTraceback (most recent call last):\n  File \"/home/danish/anaconda3/lib/python3.12/site-packages/urllib3/connectionpool.py\", line 789, in urlopen\n    response = self._make_request(\n               ^^^^^^^^^^^^^^^^^^^\n  File \"/home/danish/anaconda3/lib/python3.12/site-packages/urllib3/connectionpool.py\", line 490, in _make_request\n    raise new_e\n  File \"/home/danish/anaconda3/lib/python3.12/site-packages/urllib3/connectionpool.py\", line 466, in _make_request\n    self._validate_conn(conn)\n  File \"/home/danish/anaconda3/lib/python3.12/site-packages/urllib3/connectionpool.py\", line 1095, in _validate_conn\n    conn.connect()\n  File \"/home/danish/anaconda3/lib/python3.12/site-packages/urllib3/connection.py\", line 615, in connect\n    self.sock = sock = self._new_conn()\n                       ^^^^^^^^^^^^^^^^\n  File \"/home/danish/anaconda3/lib/python3.12/site-packages/urllib3/connection.py\", line 203, in _new_conn\n    raise NameResolutionError(self.host, self, e) from e\nurllib3.exceptions.NameResolutionError: <urllib3.connection.HTTPSConnection object at 0x7f0fa3aa3740>: Failed to resolve 'cdn-lfs.hf.co' ([Errno -3] Temporary failure in name resolution)\n\nThe above exception was the direct cause of the following exception:\n\nTraceback (most recent call last):\n  File \"/home/danish/anaconda3/lib/python3.12/site-packages/requests/adapters.py\", line 589, in send\n    resp = conn.urlopen(\n           ^^^^^^^^^^^^^\n  File \"/home/danish/anaconda3/lib/python3.12/site-packages/urllib3/connectionpool.py\", line 843, in urlopen\n    retries = retries.increment(\n              ^^^^^^^^^^^^^^^^^^\n  File \"/home/danish/anaconda3/lib/python3.12/site-packages/urllib3/util/retry.py\", line 519, in increment\n    raise MaxRetryError(_pool, url, reason) from reason  # type: ignore[arg-type]\n    ^^^^^^^^^^^^^^^^^^^^^^^^^^^^^^^^^^^^^^^^^^^^^^^^^^^\nurllib3.exceptions.MaxRetryError: HTTPSConnectionPool(host='cdn-lfs.hf.co', port=443): Max retries exceeded with url: /repos/55/81/5581151d3db61b7678e96f1b9718aa62d81e9ea4850a741f124ae4f5d6fd7bb2/02351e6a87f8372a6598cbf81c6a16b1134f38c6f835d7e10cafaa4b77db3657?response-content-disposition=inline%3B+filename*%3DUTF-8%27%27pytorch_model.bin%3B+filename%3D%22pytorch_model.bin%22%3B&response-content-type=application%2Foctet-stream&Expires=1733139353&Policy=eyJTdGF0ZW1lbnQiOlt7IkNvbmRpdGlvbiI6eyJEYXRlTGVzc1RoYW4iOnsiQVdTOkVwb2NoVGltZSI6MTczMzEzOTM1M319LCJSZXNvdXJjZSI6Imh0dHBzOi8vY2RuLWxmcy5oZi5jby9yZXBvcy81NS84MS81NTgxMTUxZDNkYjYxYjc2NzhlOTZmMWI5NzE4YWE2MmQ4MWU5ZWE0ODUwYTc0MWYxMjRhZTRmNWQ2ZmQ3YmIyLzAyMzUxZTZhODdmODM3MmE2NTk4Y2JmODFjNmExNmIxMTM0ZjM4YzZmODM1ZDdlMTBjYWZhYTRiNzdkYjM2NTc~cmVzcG9uc2UtY29udGVudC1kaXNwb3NpdGlvbj0qJnJlc3BvbnNlLWNvbnRlbnQtdHlwZT0qIn1dfQ__&Signature=mfI-MRZEJmuK3QKN2kLluRsqXIesQwM4IMEMfr3-VkC1y-ouOTszq7D6qaiafohvkbdswTtLwYsTamClTxMjsJycMQLI2PYHGJV7aIBxmoREm9sdJYcn7zQPMhRcySP8gobbKRJhO3UIbHbtftWJZIBAMbJFODLqL4J7GIBm0tCB0-W8IutEdIFj4mg3O5GBrBdTIpMeLI4uB~FlDBdH9jsvu5p20gLEPxTGr7M8qj~8VtKUBeAVtwfDgTHPw05rMOLNG9YoaPsuLKjg7cqSbU8-ptGXEqyru5NPblTanfgDvc~ljlylt-omt96penppy7xICTHXm0yHxCjaZipIIA__&Key-Pair-Id=K3RPWS32NSSJCE (Caused by NameResolutionError(\"<urllib3.connection.HTTPSConnection object at 0x7f0fa3aa3740>: Failed to resolve 'cdn-lfs.hf.co' ([Errno -3] Temporary failure in name resolution)\"))\n\nDuring handling of the above exception, another exception occurred:\n\nTraceback (most recent call last):\n  File \"/home/danish/anaconda3/lib/python3.12/site-packages/transformers/pipelines/base.py\", line 289, in infer_framework_load_model\n    model = model_class.from_pretrained(model, **kwargs)\n            ^^^^^^^^^^^^^^^^^^^^^^^^^^^^^^^^^^^^^^^^^^^^\n  File \"/home/danish/anaconda3/lib/python3.12/site-packages/transformers/models/auto/auto_factory.py\", line 564, in from_pretrained\n    return model_class.from_pretrained(\n           ^^^^^^^^^^^^^^^^^^^^^^^^^^^^\n  File \"/home/danish/anaconda3/lib/python3.12/site-packages/transformers/modeling_utils.py\", line 3838, in from_pretrained\n    resolved_archive_file = cached_file(\n                            ^^^^^^^^^^^^\n  File \"/home/danish/anaconda3/lib/python3.12/site-packages/transformers/utils/hub.py\", line 403, in cached_file\n    resolved_file = hf_hub_download(\n                    ^^^^^^^^^^^^^^^^\n  File \"/home/danish/anaconda3/lib/python3.12/site-packages/huggingface_hub/utils/_validators.py\", line 114, in _inner_fn\n    return fn(*args, **kwargs)\n           ^^^^^^^^^^^^^^^^^^^\n  File \"/home/danish/anaconda3/lib/python3.12/site-packages/huggingface_hub/file_download.py\", line 862, in hf_hub_download\n    return _hf_hub_download_to_cache_dir(\n           ^^^^^^^^^^^^^^^^^^^^^^^^^^^^^^\n  File \"/home/danish/anaconda3/lib/python3.12/site-packages/huggingface_hub/file_download.py\", line 1011, in _hf_hub_download_to_cache_dir\n    _download_to_tmp_and_move(\n  File \"/home/danish/anaconda3/lib/python3.12/site-packages/huggingface_hub/file_download.py\", line 1545, in _download_to_tmp_and_move\n    http_get(\n  File \"/home/danish/anaconda3/lib/python3.12/site-packages/huggingface_hub/file_download.py\", line 471, in http_get\n    return http_get(\n           ^^^^^^^^^\n  File \"/home/danish/anaconda3/lib/python3.12/site-packages/huggingface_hub/file_download.py\", line 368, in http_get\n    r = _request_wrapper(\n        ^^^^^^^^^^^^^^^^^\n  File \"/home/danish/anaconda3/lib/python3.12/site-packages/huggingface_hub/file_download.py\", line 300, in _request_wrapper\n    response = get_session().request(method=method, url=url, **params)\n               ^^^^^^^^^^^^^^^^^^^^^^^^^^^^^^^^^^^^^^^^^^^^^^^^^^^^^^^\n  File \"/home/danish/anaconda3/lib/python3.12/site-packages/requests/sessions.py\", line 589, in request\n    resp = self.send(prep, **send_kwargs)\n           ^^^^^^^^^^^^^^^^^^^^^^^^^^^^^^\n  File \"/home/danish/anaconda3/lib/python3.12/site-packages/requests/sessions.py\", line 703, in send\n    r = adapter.send(request, **kwargs)\n        ^^^^^^^^^^^^^^^^^^^^^^^^^^^^^^^\n  File \"/home/danish/anaconda3/lib/python3.12/site-packages/huggingface_hub/utils/_http.py\", line 93, in send\n    return super().send(request, *args, **kwargs)\n           ^^^^^^^^^^^^^^^^^^^^^^^^^^^^^^^^^^^^^^\n  File \"/home/danish/anaconda3/lib/python3.12/site-packages/requests/adapters.py\", line 622, in send\n    raise ConnectionError(e, request=request)\nrequests.exceptions.ConnectionError: (MaxRetryError('HTTPSConnectionPool(host=\\'cdn-lfs.hf.co\\', port=443): Max retries exceeded with url: /repos/55/81/5581151d3db61b7678e96f1b9718aa62d81e9ea4850a741f124ae4f5d6fd7bb2/02351e6a87f8372a6598cbf81c6a16b1134f38c6f835d7e10cafaa4b77db3657?response-content-disposition=inline%3B+filename*%3DUTF-8%27%27pytorch_model.bin%3B+filename%3D%22pytorch_model.bin%22%3B&response-content-type=application%2Foctet-stream&Expires=1733139353&Policy=eyJTdGF0ZW1lbnQiOlt7IkNvbmRpdGlvbiI6eyJEYXRlTGVzc1RoYW4iOnsiQVdTOkVwb2NoVGltZSI6MTczMzEzOTM1M319LCJSZXNvdXJjZSI6Imh0dHBzOi8vY2RuLWxmcy5oZi5jby9yZXBvcy81NS84MS81NTgxMTUxZDNkYjYxYjc2NzhlOTZmMWI5NzE4YWE2MmQ4MWU5ZWE0ODUwYTc0MWYxMjRhZTRmNWQ2ZmQ3YmIyLzAyMzUxZTZhODdmODM3MmE2NTk4Y2JmODFjNmExNmIxMTM0ZjM4YzZmODM1ZDdlMTBjYWZhYTRiNzdkYjM2NTc~cmVzcG9uc2UtY29udGVudC1kaXNwb3NpdGlvbj0qJnJlc3BvbnNlLWNvbnRlbnQtdHlwZT0qIn1dfQ__&Signature=mfI-MRZEJmuK3QKN2kLluRsqXIesQwM4IMEMfr3-VkC1y-ouOTszq7D6qaiafohvkbdswTtLwYsTamClTxMjsJycMQLI2PYHGJV7aIBxmoREm9sdJYcn7zQPMhRcySP8gobbKRJhO3UIbHbtftWJZIBAMbJFODLqL4J7GIBm0tCB0-W8IutEdIFj4mg3O5GBrBdTIpMeLI4uB~FlDBdH9jsvu5p20gLEPxTGr7M8qj~8VtKUBeAVtwfDgTHPw05rMOLNG9YoaPsuLKjg7cqSbU8-ptGXEqyru5NPblTanfgDvc~ljlylt-omt96penppy7xICTHXm0yHxCjaZipIIA__&Key-Pair-Id=K3RPWS32NSSJCE (Caused by NameResolutionError(\"<urllib3.connection.HTTPSConnection object at 0x7f0fa3aa3740>: Failed to resolve \\'cdn-lfs.hf.co\\' ([Errno -3] Temporary failure in name resolution)\"))'), '(Request ID: 1b26fc19-c2fc-4af1-a08f-776a4ead731d)')\n\nwhile loading with Wav2Vec2ForSequenceClassification, an error is thrown:\nTraceback (most recent call last):\n  File \"/home/danish/anaconda3/lib/python3.12/site-packages/transformers/pipelines/base.py\", line 289, in infer_framework_load_model\n    model = model_class.from_pretrained(model, **kwargs)\n            ^^^^^^^^^^^^^^^^^^^^^^^^^^^^^^^^^^^^^^^^^^^^\n  File \"/home/danish/anaconda3/lib/python3.12/site-packages/transformers/modeling_utils.py\", line 3913, in from_pretrained\n    raise EnvironmentError(\nOSError: anton-l/xtreme_s_xlsr_300m_minds14 does not appear to have a file named pytorch_model.bin, model.safetensors, tf_model.h5, model.ckpt or flax_model.msgpack.\n\n\n"
     ]
    }
   ],
   "source": [
    "from transformers import pipeline\n",
    "\n",
    "classifier = pipeline(\n",
    "    \"audio-classification\",\n",
    "    model=\"anton-l/xtreme_s_xlsr_300m_minds14\",\n",
    ")"
   ]
  },
  {
   "cell_type": "code",
   "execution_count": null,
   "id": "9361e25e-0ac8-4011-bdbf-f6f9dea2ac02",
   "metadata": {},
   "outputs": [],
   "source": [
    "id2label = minds.features[\"intent_class\"].int2str\n",
    "id2label(example[\"intent_class\"])"
   ]
  },
  {
   "cell_type": "markdown",
   "id": "a48aef80-80ee-4827-938c-78cfa529eb22",
   "metadata": {},
   "source": [
    "## Automatic Speech Recognition with a Pipeline"
   ]
  },
  {
   "cell_type": "code",
   "execution_count": null,
   "id": "d946aeb8-fc55-46f1-b31c-9b7cafc0020d",
   "metadata": {},
   "outputs": [],
   "source": [
    "from transformers import pipeline\n",
    "\n",
    "asr = pipeline(\"automatic-speech-recognition\")"
   ]
  },
  {
   "cell_type": "code",
   "execution_count": null,
   "id": "bad69fa5-465d-4265-9da1-d581b85834eb",
   "metadata": {},
   "outputs": [],
   "source": [
    "example = minds[0]\n",
    "asr(example[\"audio\"][\"array\"])"
   ]
  },
  {
   "cell_type": "code",
   "execution_count": null,
   "id": "e72a7101-d9d9-413a-8936-368a7145c120",
   "metadata": {},
   "outputs": [],
   "source": [
    "example[\"english_transcription\"]"
   ]
  },
  {
   "cell_type": "code",
   "execution_count": null,
   "id": "e85cb666-6ee8-4251-96af-f5e5681780d2",
   "metadata": {},
   "outputs": [],
   "source": [
    "from datasets import load_dataset\n",
    "from datasets import Audio\n",
    "\n",
    "minds = load_dataset(\"PolyAI/minds14\", name=\"de-DE\", split=\"train\")\n",
    "minds = minds.cast_column(\"audio\", Audio(sampling_rate=16_000))"
   ]
  },
  {
   "cell_type": "code",
   "execution_count": null,
   "id": "ac2cb0b5-5225-403e-973b-8914cf7a8745",
   "metadata": {},
   "outputs": [],
   "source": [
    "example = minds[0]\n",
    "example[\"transcription\"]"
   ]
  },
  {
   "cell_type": "code",
   "execution_count": null,
   "id": "77ad45a4-e7ec-41f3-9d36-216bc3911cc4",
   "metadata": {},
   "outputs": [],
   "source": [
    "from transformers import pipeline\n",
    "\n",
    "asr = pipeline(\"automatic-speech-recognition\", model=\"maxidl/wav2vec2-large-xlsr-german\")\n",
    "asr(example[\"audio\"][\"array\"])"
   ]
  },
  {
   "cell_type": "markdown",
   "id": "284bb3a4-34fb-400c-a017-f4a2d69e4980",
   "metadata": {},
   "source": [
    "## Audio Generation with Pipeline"
   ]
  },
  {
   "cell_type": "code",
   "execution_count": null,
   "id": "1ed5349e-0967-46a7-9c85-5e30914c68ed",
   "metadata": {},
   "outputs": [],
   "source": [
    "from transformers import pipeline\n",
    "\n",
    "pipe = pipeline(\"text-to-speech\", model=\"suno/bark-small\")"
   ]
  },
  {
   "cell_type": "code",
   "execution_count": null,
   "id": "18db7c9d-5a36-4694-81ee-1e92fc690eeb",
   "metadata": {},
   "outputs": [],
   "source": [
    "text = \"Ladybugs have had important roles in culture and religion, being associated with luck, love, fertility and prophecy. \"\n",
    "output = pipe(text)"
   ]
  },
  {
   "cell_type": "code",
   "execution_count": null,
   "id": "f6a541e6-f756-4578-8a2e-2ea19e7a201f",
   "metadata": {},
   "outputs": [],
   "source": [
    "from IPython.display import Audio\n",
    "\n",
    "Audio(output[\"audio\"], rate=output[\"sampling_rate\"])"
   ]
  },
  {
   "cell_type": "code",
   "execution_count": null,
   "id": "691a0f68-dccd-46ce-9066-501c655e142d",
   "metadata": {},
   "outputs": [],
   "source": [
    "fr_text = \"Contrairement à une idée répandue, le nombre de points sur les élytres d'une coccinelle ne correspond pas à son âge, ni en nombre d'années, ni en nombre de mois. \"\n",
    "output = pipe(fr_text)\n",
    "Audio(output[\"audio\"], rate=output[\"sampling_rate\"])"
   ]
  },
  {
   "cell_type": "code",
   "execution_count": null,
   "id": "483e772f-cc6b-4e17-8aca-ed7615b6f3a5",
   "metadata": {},
   "outputs": [],
   "source": [
    "song = \"♪ In the jungle, the mighty jungle, the ladybug was seen. ♪ \"\n",
    "output = pipe(song)\n",
    "Audio(output[\"audio\"], rate=output[\"sampling_rate\"])"
   ]
  },
  {
   "cell_type": "code",
   "execution_count": null,
   "id": "1f239a17-9b6a-411a-ae11-708aaeb21c60",
   "metadata": {},
   "outputs": [],
   "source": [
    "music_pipe = pipeline(\"text-to-audio\", model=\"facebook/musicgen-small\")"
   ]
  },
  {
   "cell_type": "code",
   "execution_count": null,
   "id": "44a314c4-d777-4413-b232-6908f3ce1f3b",
   "metadata": {},
   "outputs": [],
   "source": [
    "text = \"90s rock song with electric guitar and heavy drums\""
   ]
  },
  {
   "cell_type": "code",
   "execution_count": null,
   "id": "110f3bbf-343b-49d4-a426-d5513c92b22f",
   "metadata": {},
   "outputs": [],
   "source": [
    "forward_params = {\"max_new_tokens\": 512}\n",
    "\n",
    "output = music_pipe(text, forward_params=forward_params)\n",
    "Audio(output[\"audio\"][0], rate=output[\"sampling_rate\"])"
   ]
  },
  {
   "cell_type": "code",
   "execution_count": null,
   "id": "780d1f62-7d52-46a4-8723-e6266b40117a",
   "metadata": {},
   "outputs": [],
   "source": []
  }
 ],
 "metadata": {
  "kernelspec": {
   "display_name": "Python 3 (ipykernel)",
   "language": "python",
   "name": "python3"
  },
  "language_info": {
   "codemirror_mode": {
    "name": "ipython",
    "version": 3
   },
   "file_extension": ".py",
   "mimetype": "text/x-python",
   "name": "python",
   "nbconvert_exporter": "python",
   "pygments_lexer": "ipython3",
   "version": "3.12.4"
  }
 },
 "nbformat": 4,
 "nbformat_minor": 5
}
